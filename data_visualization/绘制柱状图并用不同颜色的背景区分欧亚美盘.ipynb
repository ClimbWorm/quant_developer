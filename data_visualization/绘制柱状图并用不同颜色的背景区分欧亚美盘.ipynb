{
 "cells": [
  {
   "cell_type": "code",
   "execution_count": 1,
   "metadata": {},
   "outputs": [],
   "source": [
    "import numpy as np\n",
    "from dataProcess.DataClean import CDataClean"
   ]
  },
  {
   "cell_type": "code",
   "execution_count": 2,
   "metadata": {},
   "outputs": [],
   "source": [
    "CDC = CDataClean(r'C:\\Users\\Administrator\\Desktop\\pythonHistoricalTesting\\data\\USA30.IDXUSD_Candlestick_1_Hour_BID_15.04.2018-20.11.2020.csv')"
   ]
  },
  {
   "cell_type": "code",
   "execution_count": 3,
   "metadata": {},
   "outputs": [],
   "source": [
    "df = CDC.TranslateCsvToDF()"
   ]
  },
  {
   "cell_type": "code",
   "execution_count": 4,
   "metadata": {},
   "outputs": [
    {
     "data": {
      "text/html": [
       "<div>\n",
       "<style scoped>\n",
       "    .dataframe tbody tr th:only-of-type {\n",
       "        vertical-align: middle;\n",
       "    }\n",
       "\n",
       "    .dataframe tbody tr th {\n",
       "        vertical-align: top;\n",
       "    }\n",
       "\n",
       "    .dataframe thead th {\n",
       "        text-align: right;\n",
       "    }\n",
       "</style>\n",
       "<table border=\"1\" class=\"dataframe\">\n",
       "  <thead>\n",
       "    <tr style=\"text-align: right;\">\n",
       "      <th></th>\n",
       "      <th>GMT</th>\n",
       "      <th>Open</th>\n",
       "      <th>High</th>\n",
       "      <th>Low</th>\n",
       "      <th>Close</th>\n",
       "      <th>Volume</th>\n",
       "    </tr>\n",
       "  </thead>\n",
       "  <tbody>\n",
       "    <tr>\n",
       "      <th>0</th>\n",
       "      <td>2018-04-15 22:00:00</td>\n",
       "      <td>24522.469</td>\n",
       "      <td>24580.969</td>\n",
       "      <td>24511.970</td>\n",
       "      <td>24547.970</td>\n",
       "      <td>6.365280e+06</td>\n",
       "    </tr>\n",
       "    <tr>\n",
       "      <th>1</th>\n",
       "      <td>2018-04-15 23:00:00</td>\n",
       "      <td>24547.970</td>\n",
       "      <td>24551.970</td>\n",
       "      <td>24524.970</td>\n",
       "      <td>24529.470</td>\n",
       "      <td>2.436080e+06</td>\n",
       "    </tr>\n",
       "    <tr>\n",
       "      <th>2</th>\n",
       "      <td>2018-04-16 00:00:00</td>\n",
       "      <td>24529.470</td>\n",
       "      <td>24534.470</td>\n",
       "      <td>24498.469</td>\n",
       "      <td>24519.969</td>\n",
       "      <td>6.058640e+06</td>\n",
       "    </tr>\n",
       "    <tr>\n",
       "      <th>3</th>\n",
       "      <td>2018-04-16 01:00:00</td>\n",
       "      <td>24519.969</td>\n",
       "      <td>24521.970</td>\n",
       "      <td>24459.469</td>\n",
       "      <td>24471.470</td>\n",
       "      <td>9.225220e+06</td>\n",
       "    </tr>\n",
       "    <tr>\n",
       "      <th>4</th>\n",
       "      <td>2018-04-16 02:00:00</td>\n",
       "      <td>24470.469</td>\n",
       "      <td>24485.970</td>\n",
       "      <td>24438.970</td>\n",
       "      <td>24440.469</td>\n",
       "      <td>6.664000e+06</td>\n",
       "    </tr>\n",
       "    <tr>\n",
       "      <th>5</th>\n",
       "      <td>2018-04-16 03:00:00</td>\n",
       "      <td>24440.969</td>\n",
       "      <td>24451.969</td>\n",
       "      <td>24424.470</td>\n",
       "      <td>24437.970</td>\n",
       "      <td>6.279200e+06</td>\n",
       "    </tr>\n",
       "    <tr>\n",
       "      <th>6</th>\n",
       "      <td>2018-04-16 04:00:00</td>\n",
       "      <td>24438.470</td>\n",
       "      <td>24497.469</td>\n",
       "      <td>24438.470</td>\n",
       "      <td>24494.969</td>\n",
       "      <td>3.866890e+06</td>\n",
       "    </tr>\n",
       "    <tr>\n",
       "      <th>7</th>\n",
       "      <td>2018-04-16 05:00:00</td>\n",
       "      <td>24495.469</td>\n",
       "      <td>24495.970</td>\n",
       "      <td>24447.969</td>\n",
       "      <td>24472.969</td>\n",
       "      <td>5.023200e+06</td>\n",
       "    </tr>\n",
       "    <tr>\n",
       "      <th>8</th>\n",
       "      <td>2018-04-16 06:00:00</td>\n",
       "      <td>24473.470</td>\n",
       "      <td>24492.470</td>\n",
       "      <td>24447.470</td>\n",
       "      <td>24451.469</td>\n",
       "      <td>7.184400e+06</td>\n",
       "    </tr>\n",
       "    <tr>\n",
       "      <th>9</th>\n",
       "      <td>2018-04-16 07:00:00</td>\n",
       "      <td>24451.970</td>\n",
       "      <td>24470.570</td>\n",
       "      <td>24415.570</td>\n",
       "      <td>24460.070</td>\n",
       "      <td>1.335800e+07</td>\n",
       "    </tr>\n",
       "    <tr>\n",
       "      <th>10</th>\n",
       "      <td>2018-04-16 08:00:00</td>\n",
       "      <td>24460.070</td>\n",
       "      <td>24495.070</td>\n",
       "      <td>24452.070</td>\n",
       "      <td>24468.569</td>\n",
       "      <td>1.030441e+07</td>\n",
       "    </tr>\n",
       "    <tr>\n",
       "      <th>11</th>\n",
       "      <td>2018-04-16 09:00:00</td>\n",
       "      <td>24468.070</td>\n",
       "      <td>24532.070</td>\n",
       "      <td>24467.570</td>\n",
       "      <td>24521.069</td>\n",
       "      <td>6.953570e+06</td>\n",
       "    </tr>\n",
       "    <tr>\n",
       "      <th>12</th>\n",
       "      <td>2018-04-16 10:00:00</td>\n",
       "      <td>24522.070</td>\n",
       "      <td>24534.570</td>\n",
       "      <td>24500.069</td>\n",
       "      <td>24527.570</td>\n",
       "      <td>8.939340e+06</td>\n",
       "    </tr>\n",
       "    <tr>\n",
       "      <th>13</th>\n",
       "      <td>2018-04-16 11:00:00</td>\n",
       "      <td>24529.070</td>\n",
       "      <td>24533.070</td>\n",
       "      <td>24491.569</td>\n",
       "      <td>24502.569</td>\n",
       "      <td>7.805450e+06</td>\n",
       "    </tr>\n",
       "    <tr>\n",
       "      <th>14</th>\n",
       "      <td>2018-04-16 12:00:00</td>\n",
       "      <td>24502.569</td>\n",
       "      <td>24557.570</td>\n",
       "      <td>24492.070</td>\n",
       "      <td>24553.570</td>\n",
       "      <td>9.394480e+06</td>\n",
       "    </tr>\n",
       "    <tr>\n",
       "      <th>15</th>\n",
       "      <td>2018-04-16 13:00:00</td>\n",
       "      <td>24553.569</td>\n",
       "      <td>24569.670</td>\n",
       "      <td>24485.169</td>\n",
       "      <td>24516.169</td>\n",
       "      <td>2.508123e+07</td>\n",
       "    </tr>\n",
       "  </tbody>\n",
       "</table>\n",
       "</div>"
      ],
      "text/plain": [
       "                   GMT       Open       High        Low      Close  \\\n",
       "0  2018-04-15 22:00:00  24522.469  24580.969  24511.970  24547.970   \n",
       "1  2018-04-15 23:00:00  24547.970  24551.970  24524.970  24529.470   \n",
       "2  2018-04-16 00:00:00  24529.470  24534.470  24498.469  24519.969   \n",
       "3  2018-04-16 01:00:00  24519.969  24521.970  24459.469  24471.470   \n",
       "4  2018-04-16 02:00:00  24470.469  24485.970  24438.970  24440.469   \n",
       "5  2018-04-16 03:00:00  24440.969  24451.969  24424.470  24437.970   \n",
       "6  2018-04-16 04:00:00  24438.470  24497.469  24438.470  24494.969   \n",
       "7  2018-04-16 05:00:00  24495.469  24495.970  24447.969  24472.969   \n",
       "8  2018-04-16 06:00:00  24473.470  24492.470  24447.470  24451.469   \n",
       "9  2018-04-16 07:00:00  24451.970  24470.570  24415.570  24460.070   \n",
       "10 2018-04-16 08:00:00  24460.070  24495.070  24452.070  24468.569   \n",
       "11 2018-04-16 09:00:00  24468.070  24532.070  24467.570  24521.069   \n",
       "12 2018-04-16 10:00:00  24522.070  24534.570  24500.069  24527.570   \n",
       "13 2018-04-16 11:00:00  24529.070  24533.070  24491.569  24502.569   \n",
       "14 2018-04-16 12:00:00  24502.569  24557.570  24492.070  24553.570   \n",
       "15 2018-04-16 13:00:00  24553.569  24569.670  24485.169  24516.169   \n",
       "\n",
       "          Volume  \n",
       "0   6.365280e+06  \n",
       "1   2.436080e+06  \n",
       "2   6.058640e+06  \n",
       "3   9.225220e+06  \n",
       "4   6.664000e+06  \n",
       "5   6.279200e+06  \n",
       "6   3.866890e+06  \n",
       "7   5.023200e+06  \n",
       "8   7.184400e+06  \n",
       "9   1.335800e+07  \n",
       "10  1.030441e+07  \n",
       "11  6.953570e+06  \n",
       "12  8.939340e+06  \n",
       "13  7.805450e+06  \n",
       "14  9.394480e+06  \n",
       "15  2.508123e+07  "
      ]
     },
     "execution_count": 4,
     "metadata": {},
     "output_type": "execute_result"
    }
   ],
   "source": [
    "df[:16]"
   ]
  },
  {
   "cell_type": "code",
   "execution_count": 5,
   "metadata": {},
   "outputs": [],
   "source": [
    "from tools.Statistic import CStatistic"
   ]
  },
  {
   "cell_type": "code",
   "execution_count": 6,
   "metadata": {},
   "outputs": [],
   "source": [
    "CS = CStatistic(df)"
   ]
  },
  {
   "cell_type": "code",
   "execution_count": 7,
   "metadata": {},
   "outputs": [],
   "source": [
    "tp = CS.CalcDailyHighDistribution()"
   ]
  },
  {
   "cell_type": "code",
   "execution_count": 8,
   "metadata": {},
   "outputs": [],
   "source": [
    "from tools.Picture import CPicture"
   ]
  },
  {
   "cell_type": "code",
   "execution_count": 9,
   "metadata": {},
   "outputs": [
    {
     "name": "stdout",
     "output_type": "stream",
     "text": [
      "{10: 43, 6: 17, 23: 6, 21: 13, 17: 60, 14: 94, 13: 42, 8: 52, 0: 8, 9: 53, 12: 26, 19: 28, 5: 18, 15: 47, 3: 13, 20: 19, 4: 9, 2: 22, 18: 18, 7: 27, 11: 26, 1: 23, 22: 6}\n"
     ]
    },
    {
     "data": {
      "text/plain": [
       "{0: 8,\n",
       " 1: 23,\n",
       " 2: 22,\n",
       " 3: 13,\n",
       " 4: 9,\n",
       " 5: 18,\n",
       " 6: 17,\n",
       " 7: 27,\n",
       " 8: 52,\n",
       " 9: 53,\n",
       " 10: 43,\n",
       " 11: 26,\n",
       " 12: 26,\n",
       " 13: 42,\n",
       " 14: 94,\n",
       " 15: 47,\n",
       " 16: 0,\n",
       " 17: 60,\n",
       " 18: 18,\n",
       " 19: 28,\n",
       " 20: 19,\n",
       " 21: 13,\n",
       " 22: 6,\n",
       " 23: 6}"
      ]
     },
     "execution_count": 9,
     "metadata": {},
     "output_type": "execute_result"
    }
   ],
   "source": [
    "high1 = CPicture(tp,0)#0对应high1\n",
    "high1_sorted = high1.CalcSum()\n",
    "high1_sorted"
   ]
  },
  {
   "cell_type": "code",
   "execution_count": 10,
   "metadata": {},
   "outputs": [
    {
     "name": "stdout",
     "output_type": "stream",
     "text": [
      "{9: 44, 7: 31, 22: 10, 6: 16, 0: 4, 13: 53, 14: 69, 12: 41, 1: 10, 4: 26, 8: 36, 2: 23, 11: 39, 10: 55, 20: 20, 17: 27, 18: 50, 5: 17, 19: 20, 21: 15, 3: 12, 15: 44, 23: 8}\n"
     ]
    }
   ],
   "source": [
    "high2 = CPicture(tp,1)\n",
    "high2_sorted = high2.CalcSum()"
   ]
  },
  {
   "cell_type": "code",
   "execution_count": 11,
   "metadata": {},
   "outputs": [
    {
     "name": "stdout",
     "output_type": "stream",
     "text": [
      "{14: 45, 8: 31, 0: 19, 19: 47, 5: 19, 12: 39, 10: 35, 20: 25, 6: 30, 15: 25, 1: 9, 9: 43, 17: 20, 11: 58, 4: 19, 7: 29, 13: 70, 2: 20, 22: 15, 3: 24, 23: 12, 18: 22, 21: 14}\n"
     ]
    }
   ],
   "source": [
    "high3 = CPicture(tp,2)\n",
    "high3_sorted = high3.CalcSum()"
   ]
  },
  {
   "cell_type": "code",
   "execution_count": 12,
   "metadata": {},
   "outputs": [
    {
     "name": "stdout",
     "output_type": "stream",
     "text": [
      "{17: 95, 9: 51, 12: 23, 14: 66, 13: 49, 8: 53, 2: 26, 15: 27, 20: 24, 18: 27, 4: 19, 10: 43, 11: 32, 3: 16, 5: 10, 19: 36, 6: 9, 21: 11, 7: 22, 0: 7, 1: 16, 23: 5, 22: 3}\n"
     ]
    }
   ],
   "source": [
    "low1 = CPicture(tp,3)\n",
    "low1_sorted = low1.CalcSum()"
   ]
  },
  {
   "cell_type": "code",
   "execution_count": 13,
   "metadata": {},
   "outputs": [
    {
     "name": "stdout",
     "output_type": "stream",
     "text": [
      "{18: 76, 17: 37, 13: 39, 11: 35, 14: 64, 12: 32, 9: 50, 1: 14, 10: 39, 7: 24, 19: 42, 6: 13, 8: 26, 15: 36, 5: 19, 21: 11, 0: 11, 20: 19, 2: 27, 22: 10, 3: 25, 23: 9, 4: 12}\n"
     ]
    }
   ],
   "source": [
    "low2 = CPicture(tp,4)\n",
    "low2_sorted = low2.CalcSum()"
   ]
  },
  {
   "cell_type": "code",
   "execution_count": 14,
   "metadata": {},
   "outputs": [
    {
     "name": "stdout",
     "output_type": "stream",
     "text": [
      "{19: 59, 13: 56, 11: 45, 10: 38, 9: 35, 14: 29, 0: 19, 4: 20, 21: 25, 20: 30, 18: 40, 5: 23, 8: 41, 12: 46, 7: 21, 1: 15, 17: 32, 6: 22, 3: 16, 22: 10, 15: 18, 2: 21, 23: 9}\n"
     ]
    }
   ],
   "source": [
    "low3 = CPicture(tp,5)\n",
    "low3_sorted = low3.CalcSum()"
   ]
  },
  {
   "cell_type": "code",
   "execution_count": 15,
   "metadata": {},
   "outputs": [],
   "source": [
    "import matplotlib.pyplot as plt\n",
    "import numpy as np"
   ]
  },
  {
   "cell_type": "code",
   "execution_count": 16,
   "metadata": {},
   "outputs": [
    {
     "data": {
      "text/plain": [
       "<matplotlib.legend.Legend at 0x2014adfc4f0>"
      ]
     },
     "execution_count": 16,
     "metadata": {},
     "output_type": "execute_result"
    },
    {
     "data": {
      "image/png": "[encoded data removed]",
      "text/plain": [
       "<Figure size 864x468 with 1 Axes>"
      ]
     },
     "metadata": {
      "needs_background": "light"
     },
     "output_type": "display_data"
    }
   ],
   "source": [
    "plt.figure(figsize = (12,6.5))\n",
    "plt.ylim(0,100)\n",
    "x_index = np.arange(24)  #柱的索引,总共有24h\n",
    "x_data = high1_sorted.keys()\n",
    "#x_data = np.linspace(0,1,24)\n",
    "#这边需要统计一下在各个时间段出现的频数\n",
    "h1_data = high1_sorted.values()\n",
    "h2_data = high2_sorted.values()\n",
    "h3_data = high3_sorted.values()\n",
    "bar_width = 0.25   #定义一个数字代表每个独立柱的宽度\n",
    "\n",
    "rects1 = plt.bar(x_index, h1_data, width=bar_width,alpha=0.7, color='r',label='high1')            #参数：左偏移、高度、柱宽、透明度、颜色、图例\n",
    "rects2 = plt.bar(x_index + bar_width, h2_data, width=bar_width,alpha=0.6,color='g',label='high2') #参数：左偏移、高度、柱宽、透明度、颜色、图例\n",
    "rects3 = plt.bar(x_index + 2 * bar_width, h3_data, width=bar_width,alpha=0.5,color='b',label='high3')\n",
    "#关于左偏移，不用关心每根柱的中心不中心，因为只要把刻度线设置在柱的中间就可以了\n",
    "plt.xticks(x_index + bar_width/3, x_data)   #x轴刻度线\n",
    "plt.legend()    #显示图例\n",
    "plt.tight_layout()  #自动控制图像外部边缘，此方法不能够很好的控制图像间的间隔\n",
    "def y_sup(x):\n",
    "    return 100\n",
    "\n",
    "def y_low(x):\n",
    "    return 0\n",
    "\n",
    "xf_Eu =x_index[(x_index>=1)&(x_index<=9)]\n",
    "plt.fill_between(xf_Eu,y_sup(xf_Eu),y_low(xf_Eu),color='blue',alpha=0.25,label=\"European\")\n",
    "\n",
    "xf_Ame =x_index[(x_index>=8)&(x_index<=17)]\n",
    "plt.fill_between(xf_Ame,y_sup(xf_Ame),y_low(xf_Ame),color='green',alpha=0.25,label=\"America\")\n",
    "\n",
    "xf_Asia =x_index[((x_index>=17)&(x_index<=23))|((x_index>=0)&(x_index<=1))]\n",
    "plt.fill_between(xf_Asia,y_sup(xf_Asia),y_low(xf_Asia),color='pink',alpha=0.25,label=\"Asia\")\n",
    "plt.legend()"
   ]
  },
  {
   "cell_type": "code",
   "execution_count": 17,
   "metadata": {},
   "outputs": [
    {
     "data": {
      "text/plain": [
       "<matplotlib.legend.Legend at 0x2014af15f70>"
      ]
     },
     "execution_count": 17,
     "metadata": {},
     "output_type": "execute_result"
    },
    {
     "data": {
      "image/png": "[encoded data removed]",
      "text/plain": [
       "<Figure size 864x468 with 1 Axes>"
      ]
     },
     "metadata": {
      "needs_background": "light"
     },
     "output_type": "display_data"
    }
   ],
   "source": [
    "plt.figure(figsize = (12,6.5))\n",
    "plt.ylim(0,100)\n",
    "x_index = np.arange(24)  #柱的索引,总共有24h\n",
    "x_data = low1_sorted.keys()\n",
    "#x_data = np.linspace(0,1,24)\n",
    "#这边需要统计一下在各个时间段出现的频数\n",
    "l1_data = low1_sorted.values()\n",
    "l2_data = low2_sorted.values()\n",
    "l3_data = low3_sorted.values()\n",
    "bar_width = 0.25   #定义一个数字代表每个独立柱的宽度\n",
    "\n",
    "rects1 = plt.bar(x_index, l1_data, width=bar_width,alpha=0.7, color='r',label='low1')            #参数：左偏移、高度、柱宽、透明度、颜色、图例\n",
    "rects2 = plt.bar(x_index + bar_width, l2_data, width=bar_width,alpha=0.6,color='g',label='low2') #参数：左偏移、高度、柱宽、透明度、颜色、图例\n",
    "rects3 = plt.bar(x_index + 2 * bar_width, l3_data, width=bar_width,alpha=0.5,color='b',label='low3')\n",
    "#关于左偏移，不用关心每根柱的中心不中心，因为只要把刻度线设置在柱的中间就可以了\n",
    "plt.xticks(x_index + bar_width/3, x_data)   #x轴刻度线\n",
    "plt.legend()    #显示图例\n",
    "plt.tight_layout()\n",
    "\n",
    "def y_sup(x):\n",
    "    return 100\n",
    "\n",
    "def y_low(x):\n",
    "    return 0\n",
    "\n",
    "xf_Eu =x_index[(x_index>=1)&(x_index<=9)]\n",
    "plt.fill_between(xf_Eu,y_sup(xf_Eu),y_low(xf_Eu),color='blue',alpha=0.25,label=\"European\")\n",
    "\n",
    "xf_Ame =x_index[(x_index>=8)&(x_index<=17)]\n",
    "plt.fill_between(xf_Ame,y_sup(xf_Ame),y_low(xf_Ame),color='green',alpha=0.25,label=\"America\")\n",
    "\n",
    "xf_Asia =x_index[((x_index>=17)&(x_index<=23))|((x_index>=0)&(x_index<=1))]\n",
    "plt.fill_between(xf_Asia,y_sup(xf_Asia),y_low(xf_Asia),color='pink',alpha=0.25,label=\"Asia\")\n",
    "plt.legend()"
   ]
  },
  {
   "cell_type": "code",
   "execution_count": null,
   "metadata": {},
   "outputs": [],
   "source": []
  }
 ],
 "metadata": {
  "kernelspec": {
   "display_name": "Python 3",
   "language": "python",
   "name": "python3"
  },
  "language_info": {
   "codemirror_mode": {
    "name": "ipython",
    "version": 3
   },
   "file_extension": ".py",
   "mimetype": "text/x-python",
   "name": "python",
   "nbconvert_exporter": "python",
   "pygments_lexer": "ipython3",
   "version": "3.8.5"
  }
 },
 "nbformat": 4,
 "nbformat_minor": 4
}
